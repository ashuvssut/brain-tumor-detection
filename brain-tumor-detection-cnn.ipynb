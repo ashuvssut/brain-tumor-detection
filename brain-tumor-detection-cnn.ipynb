{
 "cells": [
  {
   "cell_type": "code",
   "execution_count": 1,
   "metadata": {
    "_cell_guid": "b1076dfc-b9ad-4769-8c92-a6c4dae69d19",
    "_uuid": "8f2839f25d086af736a60e9eeb907d3b93b6e0e5"
   },
   "outputs": [
    {
     "name": "stderr",
     "output_type": "stream",
     "text": [
      "2022-12-05 13:50:47.068367: I tensorflow/core/platform/cpu_feature_guard.cc:193] This TensorFlow binary is optimized with oneAPI Deep Neural Network Library (oneDNN) to use the following CPU instructions in performance-critical operations:  AVX2 FMA\n",
      "To enable them in other operations, rebuild TensorFlow with the appropriate compiler flags.\n",
      "2022-12-05 13:50:47.527931: W tensorflow/stream_executor/platform/default/dso_loader.cc:64] Could not load dynamic library 'libcudart.so.11.0'; dlerror: libcudart.so.11.0: cannot open shared object file: No such file or directory; LD_LIBRARY_PATH: /home/linuxbrew/.linuxbrew/lib/python3.10/site-packages/cv2/../../lib64:\n",
      "2022-12-05 13:50:47.527949: I tensorflow/stream_executor/cuda/cudart_stub.cc:29] Ignore above cudart dlerror if you do not have a GPU set up on your machine.\n",
      "2022-12-05 13:50:47.584822: E tensorflow/stream_executor/cuda/cuda_blas.cc:2981] Unable to register cuBLAS factory: Attempting to register factory for plugin cuBLAS when one has already been registered\n",
      "2022-12-05 13:50:48.676100: W tensorflow/stream_executor/platform/default/dso_loader.cc:64] Could not load dynamic library 'libnvinfer.so.7'; dlerror: libnvinfer.so.7: cannot open shared object file: No such file or directory; LD_LIBRARY_PATH: /home/linuxbrew/.linuxbrew/lib/python3.10/site-packages/cv2/../../lib64:\n",
      "2022-12-05 13:50:48.676190: W tensorflow/stream_executor/platform/default/dso_loader.cc:64] Could not load dynamic library 'libnvinfer_plugin.so.7'; dlerror: libnvinfer_plugin.so.7: cannot open shared object file: No such file or directory; LD_LIBRARY_PATH: /home/linuxbrew/.linuxbrew/lib/python3.10/site-packages/cv2/../../lib64:\n",
      "2022-12-05 13:50:48.676197: W tensorflow/compiler/tf2tensorrt/utils/py_utils.cc:38] TF-TRT Warning: Cannot dlopen some TensorRT libraries. If you would like to use Nvidia GPU with TensorRT, please make sure the missing libraries mentioned above are installed properly.\n"
     ]
    }
   ],
   "source": [
    "import os\n",
    "import numpy as np\n",
    "import cv2\n",
    "\n",
    "import matplotlib.pyplot as plt\n",
    "from PIL import Image\n",
    "from collections import Counter\n",
    "import matplotlib.pyplot as plt\n",
    "from sklearn.decomposition import PCA\n",
    "from sklearn.manifold import TSNE\n",
    "import tensorflow as tf\n",
    "from keras.models import Sequential\n",
    "from keras.layers import Conv2D, MaxPooling2D\n",
    "from keras.layers import Activation, Dropout, Flatten, Dense\n"
   ]
  },
  {
   "cell_type": "code",
   "execution_count": 2,
   "metadata": {},
   "outputs": [],
   "source": [
    "# test = True\n",
    "test = False"
   ]
  },
  {
   "cell_type": "markdown",
   "metadata": {},
   "source": [
    "The Brain tumor dataset is taken from `./brain_tumor_dataset/yes` and `brain_tumor_dataset/no` directories.\n",
    "\n",
    "The dataset is divided into 2 directories: \"yes\" & \"no\". There are 253 images (155 images for \"yes\" and 98 images for \"no\").\n",
    "\n",
    "first 190 yes images are for training for \"yes\" case and the reset"
   ]
  },
  {
   "cell_type": "code",
   "execution_count": 3,
   "metadata": {},
   "outputs": [],
   "source": [
    "import os\n",
    "import numpy as np\n",
    "\n",
    "yes_imgs=os.listdir('./brain_tumor_dataset/yes')\n",
    "no_imgs=os.listdir('./brain_tumor_dataset/no')\n",
    "\n",
    "full_dataset=np.concatenate([yes_imgs,no_imgs])"
   ]
  },
  {
   "cell_type": "code",
   "execution_count": 4,
   "metadata": {},
   "outputs": [],
   "source": [
    "if(test):\n",
    "  print( full_dataset.size, full_dataset )"
   ]
  },
  {
   "cell_type": "markdown",
   "metadata": {},
   "source": [
    "The `resized_imgs` list contains the resized images of the `yes_imgs` and `no_imgs` lists."
   ]
  },
  {
   "cell_type": "code",
   "execution_count": 5,
   "metadata": {},
   "outputs": [],
   "source": [
    "import cv2\n",
    "\n",
    "resized_imgs: list[cv2.Mat] = []\n",
    "for img_file in yes_imgs:\n",
    "    img = cv2.imread('./brain_tumor_dataset/yes/'+img_file)\n",
    "    resized_img = cv2.resize(img, (32, 32))\n",
    "    resized_imgs.append(resized_img)\n",
    "\n",
    "for img_file in no_imgs:\n",
    "    img = cv2.imread('./brain_tumor_dataset/no/'+img_file)\n",
    "    resized_img = cv2.resize(img, (32, 32))\n",
    "    resized_imgs.append(resized_img)\n"
   ]
  },
  {
   "cell_type": "code",
   "execution_count": 6,
   "metadata": {},
   "outputs": [],
   "source": [
    "# # Displaying the first image in resized_imgs\n",
    "if(test):\n",
    "  cv2.imshow('image0', resized_imgs[0])\n",
    "  cv2.waitKey(0)\n",
    "  cv2.destroyAllWindows()"
   ]
  },
  {
   "cell_type": "markdown",
   "metadata": {},
   "source": [
    "Convert the `resized_imgs` list to a numpy array and save it as `X`."
   ]
  },
  {
   "cell_type": "code",
   "execution_count": 7,
   "metadata": {},
   "outputs": [],
   "source": [
    "X = np.squeeze(resized_imgs)"
   ]
  },
  {
   "cell_type": "code",
   "execution_count": 8,
   "metadata": {},
   "outputs": [],
   "source": [
    "if (test):\n",
    "  print(type(X))\n",
    "  print(X.shape)\n",
    "  print(X)"
   ]
  },
  {
   "cell_type": "code",
   "execution_count": 9,
   "metadata": {},
   "outputs": [],
   "source": [
    "if (test):\n",
    "  print(resized_imgs)"
   ]
  },
  {
   "cell_type": "markdown",
   "metadata": {},
   "source": [
    "Normalize each pixel of the image present in the numpy array `X` and save it as `X`."
   ]
  },
  {
   "cell_type": "code",
   "execution_count": 10,
   "metadata": {},
   "outputs": [],
   "source": [
    "\n",
    "# normalize data\n",
    "X = X.astype('float32')\n",
    "X /= 255"
   ]
  },
  {
   "cell_type": "code",
   "execution_count": 11,
   "metadata": {},
   "outputs": [],
   "source": [
    "if(test):\n",
    "  print(X)"
   ]
  },
  {
   "cell_type": "markdown",
   "metadata": {},
   "source": [
    "The `img_labels` list stores the labels for each image. The labels are 0 for \"no\" and 1 for \"yes\"."
   ]
  },
  {
   "cell_type": "code",
   "execution_count": 12,
   "metadata": {},
   "outputs": [],
   "source": [
    "labels_yes=np.full(len(yes_imgs),1)\n",
    "labels_no=np.full(len(no_imgs),0)\n",
    "\n",
    "img_labels=np.concatenate([labels_yes,labels_no])\n"
   ]
  },
  {
   "cell_type": "code",
   "execution_count": 13,
   "metadata": {},
   "outputs": [],
   "source": [
    "if(test):\n",
    "  print( img_labels.size, img_labels )"
   ]
  },
  {
   "cell_type": "code",
   "execution_count": 14,
   "metadata": {},
   "outputs": [],
   "source": [
    "# from keras.utils.np_utils import to_categorical\n",
    "# categorical_labels = to_categorical(img_labels, num_classes=2)\n",
    "# categorical_labels\n"
   ]
  },
  {
   "cell_type": "code",
   "execution_count": 15,
   "metadata": {},
   "outputs": [],
   "source": [
    "(x_train, y_train), (x_test, y_test) = (\n",
    "    X[:190], img_labels[:190]), (X[190:], img_labels[190:])\n",
    "(x_valid, y_valid) = (x_test[:63], y_test[:63])\n",
    "#(x_test, y_test) = (x_test[63:], y_test[63:])\n"
   ]
  },
  {
   "cell_type": "code",
   "execution_count": 16,
   "metadata": {},
   "outputs": [
    {
     "name": "stdout",
     "output_type": "stream",
     "text": [
      "Model: \"sequential\"\n",
      "_________________________________________________________________\n",
      " Layer (type)                Output Shape              Param #   \n",
      "=================================================================\n",
      " conv2d (Conv2D)             (None, 32, 32, 16)        3904      \n",
      "                                                                 \n",
      " max_pooling2d (MaxPooling2D  (None, 16, 16, 16)       0         \n",
      " )                                                               \n",
      "                                                                 \n",
      " dropout (Dropout)           (None, 16, 16, 16)        0         \n",
      "                                                                 \n",
      " conv2d_1 (Conv2D)           (None, 16, 16, 16)        20752     \n",
      "                                                                 \n",
      " max_pooling2d_1 (MaxPooling  (None, 8, 8, 16)         0         \n",
      " 2D)                                                             \n",
      "                                                                 \n",
      " dropout_1 (Dropout)         (None, 8, 8, 16)          0         \n",
      "                                                                 \n",
      " conv2d_2 (Conv2D)           (None, 8, 8, 36)          46692     \n",
      "                                                                 \n",
      " max_pooling2d_2 (MaxPooling  (None, 4, 4, 36)         0         \n",
      " 2D)                                                             \n",
      "                                                                 \n",
      " dropout_2 (Dropout)         (None, 4, 4, 36)          0         \n",
      "                                                                 \n",
      " flatten (Flatten)           (None, 576)               0         \n",
      "                                                                 \n",
      " dense (Dense)               (None, 512)               295424    \n",
      "                                                                 \n",
      " dropout_3 (Dropout)         (None, 512)               0         \n",
      "                                                                 \n",
      " dense_1 (Dense)             (None, 1)                 513       \n",
      "                                                                 \n",
      "=================================================================\n",
      "Total params: 367,285\n",
      "Trainable params: 367,285\n",
      "Non-trainable params: 0\n",
      "_________________________________________________________________\n"
     ]
    },
    {
     "name": "stderr",
     "output_type": "stream",
     "text": [
      "2022-12-05 13:50:50.963478: W tensorflow/stream_executor/platform/default/dso_loader.cc:64] Could not load dynamic library 'libcuda.so.1'; dlerror: libcuda.so.1: cannot open shared object file: No such file or directory; LD_LIBRARY_PATH: /home/linuxbrew/.linuxbrew/lib/python3.10/site-packages/cv2/../../lib64:\n",
      "2022-12-05 13:50:50.963653: W tensorflow/stream_executor/cuda/cuda_driver.cc:263] failed call to cuInit: UNKNOWN ERROR (303)\n",
      "2022-12-05 13:50:50.963683: I tensorflow/stream_executor/cuda/cuda_diagnostics.cc:156] kernel driver does not appear to be running on this host (linu): /proc/driver/nvidia/version does not exist\n",
      "2022-12-05 13:50:50.964326: I tensorflow/core/platform/cpu_feature_guard.cc:193] This TensorFlow binary is optimized with oneAPI Deep Neural Network Library (oneDNN) to use the following CPU instructions in performance-critical operations:  AVX2 FMA\n",
      "To enable them in other operations, rebuild TensorFlow with the appropriate compiler flags.\n"
     ]
    }
   ],
   "source": [
    "model = tf.keras.Sequential()\n",
    "\n",
    "model.add(tf.keras.layers.Conv2D(filters=16,kernel_size=9, padding='same', activation='relu', input_shape=(32,32,3))) \n",
    "model.add(tf.keras.layers.MaxPooling2D(pool_size=2))\n",
    "model.add(tf.keras.layers.Dropout(0.45))\n",
    "\n",
    "model.add(tf.keras.layers.Conv2D(filters=16,kernel_size=9,padding='same', activation='relu'))\n",
    "model.add(tf.keras.layers.MaxPooling2D(pool_size=2))\n",
    "model.add(tf.keras.layers.Dropout(0.25))\n",
    "\n",
    "model.add(tf.keras.layers.Conv2D(filters=36, kernel_size=9, padding='same', activation='relu'))\n",
    "model.add(tf.keras.layers.MaxPooling2D(pool_size=2))\n",
    "model.add(tf.keras.layers.Dropout(0.25))\n",
    "\n",
    "model.add(tf.keras.layers.Flatten())\n",
    "\n",
    "model.add(tf.keras.layers.Dense(512, activation='relu'))\n",
    "model.add(tf.keras.layers.Dropout(0.15))\n",
    "\n",
    "\n",
    "model.add(tf.keras.layers.Dense(1, activation='sigmoid'))\n",
    "\n",
    "# model summary\n",
    "model.summary()"
   ]
  },
  {
   "cell_type": "code",
   "execution_count": 17,
   "metadata": {},
   "outputs": [],
   "source": [
    "model.compile(loss='binary_crossentropy',\n",
    "             optimizer=tf.keras.optimizers.Adam(),\n",
    "             metrics=['acc'])"
   ]
  },
  {
   "cell_type": "code",
   "execution_count": 18,
   "metadata": {},
   "outputs": [
    {
     "name": "stdout",
     "output_type": "stream",
     "text": [
      "Epoch 1/150\n",
      "2/2 [==============================] - 1s 288ms/step - loss: 0.6211 - acc: 0.5368 - val_loss: 2.2125 - val_acc: 0.0000e+00\n",
      "Epoch 2/150\n",
      "2/2 [==============================] - 0s 138ms/step - loss: 0.5919 - acc: 0.8158 - val_loss: 1.0791 - val_acc: 0.0000e+00\n",
      "Epoch 3/150\n",
      "2/2 [==============================] - 0s 136ms/step - loss: 0.4745 - acc: 0.8158 - val_loss: 0.8859 - val_acc: 0.0000e+00\n",
      "Epoch 4/150\n",
      "2/2 [==============================] - 0s 117ms/step - loss: 0.5205 - acc: 0.8158 - val_loss: 0.9282 - val_acc: 0.0000e+00\n",
      "Epoch 5/150\n",
      "2/2 [==============================] - 0s 129ms/step - loss: 0.4883 - acc: 0.8158 - val_loss: 1.1785 - val_acc: 0.0000e+00\n",
      "Epoch 6/150\n",
      "2/2 [==============================] - 0s 119ms/step - loss: 0.4498 - acc: 0.8158 - val_loss: 1.5126 - val_acc: 0.0000e+00\n",
      "Epoch 7/150\n",
      "2/2 [==============================] - 0s 144ms/step - loss: 0.4763 - acc: 0.8158 - val_loss: 1.3301 - val_acc: 0.0000e+00\n",
      "Epoch 8/150\n",
      "2/2 [==============================] - 0s 123ms/step - loss: 0.4584 - acc: 0.8158 - val_loss: 1.1193 - val_acc: 0.0000e+00\n",
      "Epoch 9/150\n",
      "2/2 [==============================] - 0s 136ms/step - loss: 0.4463 - acc: 0.8158 - val_loss: 1.0506 - val_acc: 0.0000e+00\n",
      "Epoch 10/150\n",
      "2/2 [==============================] - 0s 133ms/step - loss: 0.4489 - acc: 0.8158 - val_loss: 1.1090 - val_acc: 0.0000e+00\n",
      "Epoch 11/150\n",
      "2/2 [==============================] - 0s 178ms/step - loss: 0.4371 - acc: 0.8158 - val_loss: 1.2256 - val_acc: 0.0000e+00\n",
      "Epoch 12/150\n",
      "2/2 [==============================] - 0s 132ms/step - loss: 0.4391 - acc: 0.8158 - val_loss: 1.2289 - val_acc: 0.0000e+00\n",
      "Epoch 13/150\n",
      "2/2 [==============================] - 0s 116ms/step - loss: 0.4300 - acc: 0.8158 - val_loss: 1.0430 - val_acc: 0.0000e+00\n",
      "Epoch 14/150\n",
      "2/2 [==============================] - 0s 125ms/step - loss: 0.4329 - acc: 0.8158 - val_loss: 1.0363 - val_acc: 0.0000e+00\n",
      "Epoch 15/150\n",
      "2/2 [==============================] - 0s 139ms/step - loss: 0.4284 - acc: 0.8158 - val_loss: 1.1955 - val_acc: 0.0000e+00\n",
      "Epoch 16/150\n",
      "2/2 [==============================] - 0s 120ms/step - loss: 0.4326 - acc: 0.8158 - val_loss: 1.0766 - val_acc: 0.0000e+00\n",
      "Epoch 17/150\n",
      "2/2 [==============================] - 0s 140ms/step - loss: 0.4090 - acc: 0.8158 - val_loss: 0.9716 - val_acc: 0.0000e+00\n",
      "Epoch 18/150\n",
      "2/2 [==============================] - 0s 136ms/step - loss: 0.4157 - acc: 0.8158 - val_loss: 1.0192 - val_acc: 0.0000e+00\n",
      "Epoch 19/150\n",
      "2/2 [==============================] - 0s 122ms/step - loss: 0.4099 - acc: 0.8158 - val_loss: 1.0154 - val_acc: 0.0000e+00\n",
      "Epoch 20/150\n",
      "2/2 [==============================] - 0s 126ms/step - loss: 0.4024 - acc: 0.8158 - val_loss: 0.9901 - val_acc: 0.0000e+00\n",
      "Epoch 21/150\n",
      "2/2 [==============================] - 0s 130ms/step - loss: 0.3944 - acc: 0.8158 - val_loss: 0.9116 - val_acc: 0.0000e+00\n",
      "Epoch 22/150\n",
      "2/2 [==============================] - 0s 137ms/step - loss: 0.3979 - acc: 0.8158 - val_loss: 0.9160 - val_acc: 0.0000e+00\n",
      "Epoch 23/150\n",
      "2/2 [==============================] - 0s 133ms/step - loss: 0.3883 - acc: 0.8158 - val_loss: 0.8107 - val_acc: 0.0000e+00\n",
      "Epoch 24/150\n",
      "2/2 [==============================] - 0s 122ms/step - loss: 0.3862 - acc: 0.8158 - val_loss: 0.9868 - val_acc: 0.0000e+00\n",
      "Epoch 25/150\n",
      "2/2 [==============================] - 0s 133ms/step - loss: 0.3918 - acc: 0.8158 - val_loss: 0.9671 - val_acc: 0.0000e+00\n",
      "Epoch 26/150\n",
      "2/2 [==============================] - 0s 138ms/step - loss: 0.3733 - acc: 0.8158 - val_loss: 0.8009 - val_acc: 0.0794\n",
      "Epoch 27/150\n",
      "2/2 [==============================] - 0s 128ms/step - loss: 0.3856 - acc: 0.8158 - val_loss: 0.8604 - val_acc: 0.2222\n",
      "Epoch 28/150\n",
      "2/2 [==============================] - 0s 163ms/step - loss: 0.3739 - acc: 0.8158 - val_loss: 0.8810 - val_acc: 0.3175\n",
      "Epoch 29/150\n",
      "2/2 [==============================] - 0s 119ms/step - loss: 0.3642 - acc: 0.8158 - val_loss: 0.8868 - val_acc: 0.4286\n",
      "Epoch 30/150\n",
      "2/2 [==============================] - 0s 134ms/step - loss: 0.3746 - acc: 0.8211 - val_loss: 0.9724 - val_acc: 0.4286\n",
      "Epoch 31/150\n",
      "2/2 [==============================] - 0s 125ms/step - loss: 0.3565 - acc: 0.8263 - val_loss: 0.8627 - val_acc: 0.5079\n",
      "Epoch 32/150\n",
      "2/2 [==============================] - 0s 121ms/step - loss: 0.3708 - acc: 0.8158 - val_loss: 0.7772 - val_acc: 0.5714\n",
      "Epoch 33/150\n",
      "2/2 [==============================] - 0s 130ms/step - loss: 0.3572 - acc: 0.8211 - val_loss: 1.2298 - val_acc: 0.3968\n",
      "Epoch 34/150\n",
      "2/2 [==============================] - 0s 112ms/step - loss: 0.4267 - acc: 0.8211 - val_loss: 0.9293 - val_acc: 0.4603\n",
      "Epoch 35/150\n",
      "2/2 [==============================] - 0s 165ms/step - loss: 0.3783 - acc: 0.8263 - val_loss: 0.7550 - val_acc: 0.5238\n",
      "Epoch 36/150\n",
      "2/2 [==============================] - 0s 126ms/step - loss: 0.3888 - acc: 0.8421 - val_loss: 0.9952 - val_acc: 0.4444\n",
      "Epoch 37/150\n",
      "2/2 [==============================] - 0s 126ms/step - loss: 0.3862 - acc: 0.8368 - val_loss: 1.1780 - val_acc: 0.2698\n",
      "Epoch 38/150\n",
      "2/2 [==============================] - 0s 117ms/step - loss: 0.3511 - acc: 0.8316 - val_loss: 0.8969 - val_acc: 0.4444\n",
      "Epoch 39/150\n",
      "2/2 [==============================] - 0s 121ms/step - loss: 0.3649 - acc: 0.8632 - val_loss: 0.8573 - val_acc: 0.5079\n",
      "Epoch 40/150\n",
      "2/2 [==============================] - 0s 132ms/step - loss: 0.3572 - acc: 0.8474 - val_loss: 1.0377 - val_acc: 0.4444\n",
      "Epoch 41/150\n",
      "2/2 [==============================] - 0s 121ms/step - loss: 0.3517 - acc: 0.8421 - val_loss: 1.2417 - val_acc: 0.3810\n",
      "Epoch 42/150\n",
      "2/2 [==============================] - 0s 124ms/step - loss: 0.3695 - acc: 0.8263 - val_loss: 1.0999 - val_acc: 0.4444\n",
      "Epoch 43/150\n",
      "2/2 [==============================] - 0s 133ms/step - loss: 0.3482 - acc: 0.8421 - val_loss: 0.9749 - val_acc: 0.4762\n",
      "Epoch 44/150\n",
      "2/2 [==============================] - 0s 135ms/step - loss: 0.3597 - acc: 0.8789 - val_loss: 0.9363 - val_acc: 0.4921\n",
      "Epoch 45/150\n",
      "2/2 [==============================] - 0s 121ms/step - loss: 0.3431 - acc: 0.8789 - val_loss: 1.0332 - val_acc: 0.4444\n",
      "Epoch 46/150\n",
      "2/2 [==============================] - 0s 140ms/step - loss: 0.3304 - acc: 0.8474 - val_loss: 1.1493 - val_acc: 0.3968\n",
      "Epoch 47/150\n",
      "2/2 [==============================] - 0s 129ms/step - loss: 0.3338 - acc: 0.8474 - val_loss: 1.0981 - val_acc: 0.4286\n",
      "Epoch 48/150\n",
      "2/2 [==============================] - 0s 123ms/step - loss: 0.3376 - acc: 0.8526 - val_loss: 0.8470 - val_acc: 0.5079\n",
      "Epoch 49/150\n",
      "2/2 [==============================] - 0s 122ms/step - loss: 0.3435 - acc: 0.8579 - val_loss: 0.8679 - val_acc: 0.5079\n",
      "Epoch 50/150\n",
      "2/2 [==============================] - 0s 124ms/step - loss: 0.3278 - acc: 0.8737 - val_loss: 0.9711 - val_acc: 0.5079\n",
      "Epoch 51/150\n",
      "2/2 [==============================] - 1s 570ms/step - loss: 0.3129 - acc: 0.8526 - val_loss: 0.9804 - val_acc: 0.5238\n",
      "Epoch 52/150\n",
      "2/2 [==============================] - 1s 521ms/step - loss: 0.3190 - acc: 0.8789 - val_loss: 0.9937 - val_acc: 0.5238\n",
      "Epoch 53/150\n",
      "2/2 [==============================] - 0s 126ms/step - loss: 0.2955 - acc: 0.8737 - val_loss: 0.9672 - val_acc: 0.5397\n",
      "Epoch 54/150\n",
      "2/2 [==============================] - 0s 135ms/step - loss: 0.3124 - acc: 0.8579 - val_loss: 0.7383 - val_acc: 0.6032\n",
      "Epoch 55/150\n",
      "2/2 [==============================] - 0s 120ms/step - loss: 0.3214 - acc: 0.8842 - val_loss: 0.8155 - val_acc: 0.5714\n",
      "Epoch 56/150\n",
      "2/2 [==============================] - 0s 128ms/step - loss: 0.2910 - acc: 0.8632 - val_loss: 1.1633 - val_acc: 0.4762\n",
      "Epoch 57/150\n",
      "2/2 [==============================] - 0s 133ms/step - loss: 0.3546 - acc: 0.8632 - val_loss: 0.9381 - val_acc: 0.5556\n",
      "Epoch 58/150\n",
      "2/2 [==============================] - 0s 130ms/step - loss: 0.2866 - acc: 0.8947 - val_loss: 0.7343 - val_acc: 0.5714\n",
      "Epoch 59/150\n",
      "2/2 [==============================] - 0s 129ms/step - loss: 0.3159 - acc: 0.8842 - val_loss: 1.0319 - val_acc: 0.5079\n",
      "Epoch 60/150\n",
      "2/2 [==============================] - 0s 120ms/step - loss: 0.3044 - acc: 0.8842 - val_loss: 1.2161 - val_acc: 0.3968\n",
      "Epoch 61/150\n",
      "2/2 [==============================] - 0s 113ms/step - loss: 0.2981 - acc: 0.8526 - val_loss: 0.8832 - val_acc: 0.5079\n",
      "Epoch 62/150\n",
      "2/2 [==============================] - 0s 123ms/step - loss: 0.2980 - acc: 0.8947 - val_loss: 0.8124 - val_acc: 0.5238\n",
      "Epoch 63/150\n",
      "2/2 [==============================] - 0s 126ms/step - loss: 0.2728 - acc: 0.8895 - val_loss: 1.0888 - val_acc: 0.5079\n",
      "Epoch 64/150\n",
      "2/2 [==============================] - 0s 123ms/step - loss: 0.2718 - acc: 0.8947 - val_loss: 1.2170 - val_acc: 0.5079\n",
      "Epoch 65/150\n",
      "2/2 [==============================] - 0s 130ms/step - loss: 0.2905 - acc: 0.8842 - val_loss: 1.0014 - val_acc: 0.5397\n",
      "Epoch 66/150\n",
      "2/2 [==============================] - 0s 119ms/step - loss: 0.2599 - acc: 0.8842 - val_loss: 0.8363 - val_acc: 0.5556\n",
      "Epoch 67/150\n",
      "2/2 [==============================] - 0s 112ms/step - loss: 0.2432 - acc: 0.9158 - val_loss: 0.9230 - val_acc: 0.5556\n",
      "Epoch 68/150\n",
      "2/2 [==============================] - 0s 157ms/step - loss: 0.2539 - acc: 0.9053 - val_loss: 1.0257 - val_acc: 0.5556\n",
      "Epoch 69/150\n",
      "2/2 [==============================] - 0s 135ms/step - loss: 0.2873 - acc: 0.8842 - val_loss: 0.8379 - val_acc: 0.5397\n",
      "Epoch 70/150\n",
      "2/2 [==============================] - 0s 170ms/step - loss: 0.2444 - acc: 0.9263 - val_loss: 0.9503 - val_acc: 0.5397\n",
      "Epoch 71/150\n",
      "2/2 [==============================] - 0s 146ms/step - loss: 0.2448 - acc: 0.8789 - val_loss: 1.0286 - val_acc: 0.5397\n",
      "Epoch 72/150\n",
      "2/2 [==============================] - 0s 152ms/step - loss: 0.2281 - acc: 0.9000 - val_loss: 0.7791 - val_acc: 0.5714\n",
      "Epoch 73/150\n",
      "2/2 [==============================] - 0s 164ms/step - loss: 0.2630 - acc: 0.8684 - val_loss: 0.9873 - val_acc: 0.5556\n",
      "Epoch 74/150\n",
      "2/2 [==============================] - 0s 155ms/step - loss: 0.2274 - acc: 0.8947 - val_loss: 1.2437 - val_acc: 0.4762\n",
      "Epoch 75/150\n",
      "2/2 [==============================] - 0s 123ms/step - loss: 0.2786 - acc: 0.8737 - val_loss: 0.8508 - val_acc: 0.6032\n",
      "Epoch 76/150\n",
      "2/2 [==============================] - 0s 131ms/step - loss: 0.2114 - acc: 0.9211 - val_loss: 0.6625 - val_acc: 0.6667\n",
      "Epoch 77/150\n",
      "2/2 [==============================] - 0s 136ms/step - loss: 0.2598 - acc: 0.9368 - val_loss: 1.2236 - val_acc: 0.5556\n",
      "Epoch 78/150\n",
      "2/2 [==============================] - 0s 142ms/step - loss: 0.2427 - acc: 0.8895 - val_loss: 1.2424 - val_acc: 0.5556\n",
      "Epoch 79/150\n",
      "2/2 [==============================] - 0s 157ms/step - loss: 0.2001 - acc: 0.9211 - val_loss: 0.7340 - val_acc: 0.6667\n",
      "Epoch 80/150\n",
      "2/2 [==============================] - 0s 126ms/step - loss: 0.2249 - acc: 0.8842 - val_loss: 0.8977 - val_acc: 0.6349\n",
      "Epoch 81/150\n",
      "2/2 [==============================] - 0s 130ms/step - loss: 0.1868 - acc: 0.9211 - val_loss: 1.3945 - val_acc: 0.4444\n",
      "Epoch 82/150\n",
      "2/2 [==============================] - 0s 131ms/step - loss: 0.2422 - acc: 0.8842 - val_loss: 0.9950 - val_acc: 0.5873\n",
      "Epoch 83/150\n",
      "2/2 [==============================] - 0s 128ms/step - loss: 0.1887 - acc: 0.9368 - val_loss: 0.7196 - val_acc: 0.6667\n",
      "Epoch 84/150\n",
      "2/2 [==============================] - 0s 123ms/step - loss: 0.2050 - acc: 0.9211 - val_loss: 0.8556 - val_acc: 0.6508\n",
      "Epoch 85/150\n",
      "2/2 [==============================] - 0s 116ms/step - loss: 0.1797 - acc: 0.9263 - val_loss: 1.2102 - val_acc: 0.5873\n",
      "Epoch 86/150\n",
      "2/2 [==============================] - 0s 133ms/step - loss: 0.1999 - acc: 0.9158 - val_loss: 1.1831 - val_acc: 0.5714\n",
      "Epoch 87/150\n",
      "2/2 [==============================] - 0s 126ms/step - loss: 0.1950 - acc: 0.9053 - val_loss: 0.7320 - val_acc: 0.6825\n",
      "Epoch 88/150\n",
      "2/2 [==============================] - 0s 128ms/step - loss: 0.1710 - acc: 0.9421 - val_loss: 0.8577 - val_acc: 0.6508\n",
      "Epoch 89/150\n",
      "2/2 [==============================] - 0s 138ms/step - loss: 0.1517 - acc: 0.9474 - val_loss: 1.2772 - val_acc: 0.6032\n",
      "Epoch 90/150\n",
      "2/2 [==============================] - 0s 127ms/step - loss: 0.1274 - acc: 0.9526 - val_loss: 1.1033 - val_acc: 0.6508\n",
      "Epoch 91/150\n",
      "2/2 [==============================] - 0s 134ms/step - loss: 0.1564 - acc: 0.9421 - val_loss: 0.9522 - val_acc: 0.6667\n",
      "Epoch 92/150\n",
      "2/2 [==============================] - 0s 135ms/step - loss: 0.1204 - acc: 0.9474 - val_loss: 1.3852 - val_acc: 0.5556\n",
      "Epoch 93/150\n",
      "2/2 [==============================] - 0s 126ms/step - loss: 0.1434 - acc: 0.9368 - val_loss: 1.4887 - val_acc: 0.5238\n",
      "Epoch 94/150\n",
      "2/2 [==============================] - 0s 117ms/step - loss: 0.1620 - acc: 0.9263 - val_loss: 1.0632 - val_acc: 0.5873\n",
      "Epoch 95/150\n",
      "2/2 [==============================] - 0s 126ms/step - loss: 0.1095 - acc: 0.9632 - val_loss: 0.9756 - val_acc: 0.6508\n",
      "Epoch 96/150\n",
      "2/2 [==============================] - 0s 116ms/step - loss: 0.1024 - acc: 0.9632 - val_loss: 1.2409 - val_acc: 0.6349\n",
      "Epoch 97/150\n",
      "2/2 [==============================] - 0s 124ms/step - loss: 0.1058 - acc: 0.9474 - val_loss: 1.6137 - val_acc: 0.6349\n",
      "Epoch 98/150\n",
      "2/2 [==============================] - 0s 123ms/step - loss: 0.0799 - acc: 0.9684 - val_loss: 1.0763 - val_acc: 0.6825\n",
      "Epoch 99/150\n",
      "2/2 [==============================] - 0s 118ms/step - loss: 0.0570 - acc: 0.9842 - val_loss: 0.8186 - val_acc: 0.7619\n",
      "Epoch 100/150\n",
      "2/2 [==============================] - 0s 118ms/step - loss: 0.1250 - acc: 0.9526 - val_loss: 1.2963 - val_acc: 0.6190\n",
      "Epoch 101/150\n",
      "2/2 [==============================] - 0s 172ms/step - loss: 0.0875 - acc: 0.9579 - val_loss: 1.1501 - val_acc: 0.6508\n",
      "Epoch 102/150\n",
      "2/2 [==============================] - 0s 125ms/step - loss: 0.1002 - acc: 0.9684 - val_loss: 0.8696 - val_acc: 0.7143\n",
      "Epoch 103/150\n",
      "2/2 [==============================] - 0s 132ms/step - loss: 0.0653 - acc: 0.9789 - val_loss: 1.4427 - val_acc: 0.6349\n",
      "Epoch 104/150\n",
      "2/2 [==============================] - 0s 124ms/step - loss: 0.0709 - acc: 0.9579 - val_loss: 1.5392 - val_acc: 0.6667\n",
      "Epoch 105/150\n",
      "2/2 [==============================] - 0s 118ms/step - loss: 0.0723 - acc: 0.9632 - val_loss: 1.4960 - val_acc: 0.6508\n",
      "Epoch 106/150\n",
      "2/2 [==============================] - 1s 953ms/step - loss: 0.0636 - acc: 0.9842 - val_loss: 1.8896 - val_acc: 0.6032\n",
      "Epoch 107/150\n",
      "2/2 [==============================] - 1s 143ms/step - loss: 0.0776 - acc: 0.9737 - val_loss: 1.4775 - val_acc: 0.6349\n",
      "Epoch 108/150\n",
      "2/2 [==============================] - 0s 127ms/step - loss: 0.0503 - acc: 0.9895 - val_loss: 1.4160 - val_acc: 0.6508\n",
      "Epoch 109/150\n",
      "2/2 [==============================] - 0s 135ms/step - loss: 0.0613 - acc: 0.9737 - val_loss: 1.3861 - val_acc: 0.6667\n",
      "Epoch 110/150\n",
      "2/2 [==============================] - 0s 123ms/step - loss: 0.0357 - acc: 0.9895 - val_loss: 1.0508 - val_acc: 0.6984\n",
      "Epoch 111/150\n",
      "2/2 [==============================] - 0s 137ms/step - loss: 0.1392 - acc: 0.9421 - val_loss: 2.3557 - val_acc: 0.5873\n",
      "Epoch 112/150\n",
      "2/2 [==============================] - 0s 124ms/step - loss: 0.0990 - acc: 0.9789 - val_loss: 2.2524 - val_acc: 0.5873\n",
      "Epoch 113/150\n",
      "2/2 [==============================] - 0s 130ms/step - loss: 0.0574 - acc: 0.9842 - val_loss: 1.4610 - val_acc: 0.6667\n",
      "Epoch 114/150\n",
      "2/2 [==============================] - 0s 130ms/step - loss: 0.0680 - acc: 0.9842 - val_loss: 1.2580 - val_acc: 0.6984\n",
      "Epoch 115/150\n",
      "2/2 [==============================] - 0s 140ms/step - loss: 0.0390 - acc: 0.9947 - val_loss: 1.8661 - val_acc: 0.6508\n",
      "Epoch 116/150\n",
      "2/2 [==============================] - 0s 123ms/step - loss: 0.0442 - acc: 0.9789 - val_loss: 2.3019 - val_acc: 0.6032\n",
      "Epoch 117/150\n",
      "2/2 [==============================] - 0s 122ms/step - loss: 0.0514 - acc: 0.9737 - val_loss: 1.9357 - val_acc: 0.6190\n",
      "Epoch 118/150\n",
      "2/2 [==============================] - 0s 131ms/step - loss: 0.0727 - acc: 0.9632 - val_loss: 1.3493 - val_acc: 0.6984\n",
      "Epoch 119/150\n",
      "2/2 [==============================] - 0s 138ms/step - loss: 0.0407 - acc: 0.9842 - val_loss: 1.0867 - val_acc: 0.6984\n",
      "Epoch 120/150\n",
      "2/2 [==============================] - 0s 137ms/step - loss: 0.0554 - acc: 0.9895 - val_loss: 1.4245 - val_acc: 0.6508\n",
      "Epoch 121/150\n",
      "2/2 [==============================] - 0s 147ms/step - loss: 0.0383 - acc: 0.9842 - val_loss: 2.0562 - val_acc: 0.6190\n",
      "Epoch 122/150\n",
      "2/2 [==============================] - 0s 156ms/step - loss: 0.0584 - acc: 0.9789 - val_loss: 2.0838 - val_acc: 0.6190\n",
      "Epoch 123/150\n",
      "2/2 [==============================] - 0s 131ms/step - loss: 0.0439 - acc: 0.9789 - val_loss: 1.5225 - val_acc: 0.6349\n",
      "Epoch 124/150\n",
      "2/2 [==============================] - 0s 166ms/step - loss: 0.0358 - acc: 0.9895 - val_loss: 1.5280 - val_acc: 0.6349\n",
      "Epoch 125/150\n",
      "2/2 [==============================] - 0s 151ms/step - loss: 0.0275 - acc: 1.0000 - val_loss: 1.6612 - val_acc: 0.6349\n",
      "Epoch 126/150\n",
      "2/2 [==============================] - 0s 140ms/step - loss: 0.0296 - acc: 0.9947 - val_loss: 1.8088 - val_acc: 0.6032\n",
      "Epoch 127/150\n",
      "2/2 [==============================] - 0s 134ms/step - loss: 0.0193 - acc: 1.0000 - val_loss: 1.8216 - val_acc: 0.6032\n",
      "Epoch 128/150\n",
      "2/2 [==============================] - 0s 144ms/step - loss: 0.0278 - acc: 0.9947 - val_loss: 1.6747 - val_acc: 0.6508\n",
      "Epoch 129/150\n",
      "2/2 [==============================] - 0s 137ms/step - loss: 0.0393 - acc: 0.9842 - val_loss: 2.0152 - val_acc: 0.6508\n",
      "Epoch 130/150\n",
      "2/2 [==============================] - 0s 145ms/step - loss: 0.0289 - acc: 0.9895 - val_loss: 2.0464 - val_acc: 0.6508\n",
      "Epoch 131/150\n",
      "2/2 [==============================] - 0s 122ms/step - loss: 0.0448 - acc: 0.9895 - val_loss: 1.6325 - val_acc: 0.6984\n",
      "Epoch 132/150\n",
      "2/2 [==============================] - 0s 156ms/step - loss: 0.0711 - acc: 0.9684 - val_loss: 2.1084 - val_acc: 0.6508\n",
      "Epoch 133/150\n",
      "2/2 [==============================] - 0s 150ms/step - loss: 0.0197 - acc: 0.9947 - val_loss: 2.9809 - val_acc: 0.5397\n",
      "Epoch 134/150\n",
      "2/2 [==============================] - 0s 153ms/step - loss: 0.0592 - acc: 0.9789 - val_loss: 2.1726 - val_acc: 0.5556\n",
      "Epoch 135/150\n",
      "2/2 [==============================] - 0s 138ms/step - loss: 0.0598 - acc: 0.9737 - val_loss: 1.0079 - val_acc: 0.7302\n",
      "Epoch 136/150\n",
      "2/2 [==============================] - 0s 127ms/step - loss: 0.0943 - acc: 0.9579 - val_loss: 1.3194 - val_acc: 0.6825\n",
      "Epoch 137/150\n",
      "2/2 [==============================] - 0s 133ms/step - loss: 0.0524 - acc: 0.9842 - val_loss: 1.6530 - val_acc: 0.6190\n",
      "Epoch 138/150\n",
      "2/2 [==============================] - 0s 133ms/step - loss: 0.0668 - acc: 0.9737 - val_loss: 1.4157 - val_acc: 0.6825\n",
      "Epoch 139/150\n",
      "2/2 [==============================] - 0s 174ms/step - loss: 0.0361 - acc: 0.9895 - val_loss: 1.8863 - val_acc: 0.6508\n",
      "Epoch 140/150\n",
      "2/2 [==============================] - 0s 138ms/step - loss: 0.0491 - acc: 0.9737 - val_loss: 1.4848 - val_acc: 0.6984\n",
      "Epoch 141/150\n",
      "2/2 [==============================] - 0s 156ms/step - loss: 0.0373 - acc: 0.9895 - val_loss: 1.1611 - val_acc: 0.7143\n",
      "Epoch 142/150\n",
      "2/2 [==============================] - 0s 135ms/step - loss: 0.0926 - acc: 0.9579 - val_loss: 1.6749 - val_acc: 0.6032\n",
      "Epoch 143/150\n",
      "2/2 [==============================] - 0s 123ms/step - loss: 0.0576 - acc: 0.9842 - val_loss: 1.7817 - val_acc: 0.6190\n",
      "Epoch 144/150\n",
      "2/2 [==============================] - 0s 135ms/step - loss: 0.0174 - acc: 1.0000 - val_loss: 1.9307 - val_acc: 0.6508\n",
      "Epoch 145/150\n",
      "2/2 [==============================] - 0s 138ms/step - loss: 0.0355 - acc: 0.9895 - val_loss: 1.9014 - val_acc: 0.6825\n",
      "Epoch 146/150\n",
      "2/2 [==============================] - 0s 136ms/step - loss: 0.0616 - acc: 0.9842 - val_loss: 1.8880 - val_acc: 0.6349\n",
      "Epoch 147/150\n",
      "2/2 [==============================] - 0s 132ms/step - loss: 0.0878 - acc: 0.9632 - val_loss: 1.9738 - val_acc: 0.6349\n",
      "Epoch 148/150\n",
      "2/2 [==============================] - 0s 124ms/step - loss: 0.0725 - acc: 0.9737 - val_loss: 2.2149 - val_acc: 0.5873\n",
      "Epoch 149/150\n",
      "2/2 [==============================] - 1s 383ms/step - loss: 0.0545 - acc: 0.9789 - val_loss: 1.5134 - val_acc: 0.6349\n",
      "Epoch 150/150\n",
      "2/2 [==============================] - 2s 759ms/step - loss: 0.0308 - acc: 0.9895 - val_loss: 1.3202 - val_acc: 0.6825\n"
     ]
    },
    {
     "data": {
      "text/plain": [
       "<keras.callbacks.History at 0x7fdc94242800>"
      ]
     },
     "execution_count": 18,
     "metadata": {},
     "output_type": "execute_result"
    }
   ],
   "source": [
    "model.fit(x_train,\n",
    "         y_train,\n",
    "         batch_size=128,\n",
    "         epochs=150,\n",
    "         validation_data=(x_valid, y_valid),)"
   ]
  },
  {
   "cell_type": "code",
   "execution_count": 19,
   "metadata": {},
   "outputs": [
    {
     "data": {
      "image/svg+xml": "<svg xmlns=\"http://www.w3.org/2000/svg\" xmlns:xlink=\"http://www.w3.org/1999/xlink\" width=\"483pt\" height=\"1512pt\" viewBox=\"0.00 0.00 362.00 1134.00\">\n<g id=\"graph0\" class=\"graph\" transform=\"scale(0.75 0.75) rotate(0) translate(4 1130)\">\n<title>G</title>\n<polygon fill=\"white\" stroke=\"transparent\" points=\"-4,4 -4,-1130 358,-1130 358,4 -4,4\"/>\n<!-- 140585397608000 -->\n<g id=\"node1\" class=\"node\">\n<title>140585397608000</title>\n<polygon fill=\"none\" stroke=\"black\" points=\"13.5,-1079.5 13.5,-1125.5 340.5,-1125.5 340.5,-1079.5 13.5,-1079.5\"/>\n<text text-anchor=\"middle\" x=\"69.5\" y=\"-1110.3\" font-family=\"Times,serif\" font-size=\"14.00\">conv2d_input</text>\n<polyline fill=\"none\" stroke=\"black\" points=\"13.5,-1102.5 125.5,-1102.5 \"/>\n<text text-anchor=\"middle\" x=\"69.5\" y=\"-1087.3\" font-family=\"Times,serif\" font-size=\"14.00\">InputLayer</text>\n<polyline fill=\"none\" stroke=\"black\" points=\"125.5,-1079.5 125.5,-1125.5 \"/>\n<text text-anchor=\"middle\" x=\"159.5\" y=\"-1110.3\" font-family=\"Times,serif\" font-size=\"14.00\">input:</text>\n<polyline fill=\"none\" stroke=\"black\" points=\"125.5,-1102.5 193.5,-1102.5 \"/>\n<text text-anchor=\"middle\" x=\"159.5\" y=\"-1087.3\" font-family=\"Times,serif\" font-size=\"14.00\">output:</text>\n<polyline fill=\"none\" stroke=\"black\" points=\"193.5,-1079.5 193.5,-1125.5 \"/>\n<text text-anchor=\"middle\" x=\"267\" y=\"-1110.3\" font-family=\"Times,serif\" font-size=\"14.00\">[(None, 32, 32, 3)]</text>\n<polyline fill=\"none\" stroke=\"black\" points=\"193.5,-1102.5 340.5,-1102.5 \"/>\n<text text-anchor=\"middle\" x=\"267\" y=\"-1087.3\" font-family=\"Times,serif\" font-size=\"14.00\">[(None, 32, 32, 3)]</text>\n</g>\n<!-- 140585488198592 -->\n<g id=\"node2\" class=\"node\">\n<title>140585488198592</title>\n<polygon fill=\"none\" stroke=\"black\" points=\"33.5,-996.5 33.5,-1042.5 320.5,-1042.5 320.5,-996.5 33.5,-996.5\"/>\n<text text-anchor=\"middle\" x=\"70\" y=\"-1027.3\" font-family=\"Times,serif\" font-size=\"14.00\">conv2d</text>\n<polyline fill=\"none\" stroke=\"black\" points=\"33.5,-1019.5 106.5,-1019.5 \"/>\n<text text-anchor=\"middle\" x=\"70\" y=\"-1004.3\" font-family=\"Times,serif\" font-size=\"14.00\">Conv2D</text>\n<polyline fill=\"none\" stroke=\"black\" points=\"106.5,-996.5 106.5,-1042.5 \"/>\n<text text-anchor=\"middle\" x=\"140.5\" y=\"-1027.3\" font-family=\"Times,serif\" font-size=\"14.00\">input:</text>\n<polyline fill=\"none\" stroke=\"black\" points=\"106.5,-1019.5 174.5,-1019.5 \"/>\n<text text-anchor=\"middle\" x=\"140.5\" y=\"-1004.3\" font-family=\"Times,serif\" font-size=\"14.00\">output:</text>\n<polyline fill=\"none\" stroke=\"black\" points=\"174.5,-996.5 174.5,-1042.5 \"/>\n<text text-anchor=\"middle\" x=\"247.5\" y=\"-1027.3\" font-family=\"Times,serif\" font-size=\"14.00\">(None, 32, 32, 3)</text>\n<polyline fill=\"none\" stroke=\"black\" points=\"174.5,-1019.5 320.5,-1019.5 \"/>\n<text text-anchor=\"middle\" x=\"247.5\" y=\"-1004.3\" font-family=\"Times,serif\" font-size=\"14.00\">(None, 32, 32, 16)</text>\n</g>\n<!-- 140585397608000&#45;&gt;140585488198592 -->\n<g id=\"edge1\" class=\"edge\">\n<title>140585397608000-&gt;140585488198592</title>\n<path fill=\"none\" stroke=\"black\" d=\"M177,-1079.37C177,-1071.15 177,-1061.66 177,-1052.73\"/>\n<polygon fill=\"black\" stroke=\"black\" points=\"180.5,-1052.61 177,-1042.61 173.5,-1052.61 180.5,-1052.61\"/>\n</g>\n<!-- 140588111619904 -->\n<g id=\"node3\" class=\"node\">\n<title>140588111619904</title>\n<polygon fill=\"none\" stroke=\"black\" points=\"8,-913.5 8,-959.5 346,-959.5 346,-913.5 8,-913.5\"/>\n<text text-anchor=\"middle\" x=\"70\" y=\"-944.3\" font-family=\"Times,serif\" font-size=\"14.00\">max_pooling2d</text>\n<polyline fill=\"none\" stroke=\"black\" points=\"8,-936.5 132,-936.5 \"/>\n<text text-anchor=\"middle\" x=\"70\" y=\"-921.3\" font-family=\"Times,serif\" font-size=\"14.00\">MaxPooling2D</text>\n<polyline fill=\"none\" stroke=\"black\" points=\"132,-913.5 132,-959.5 \"/>\n<text text-anchor=\"middle\" x=\"166\" y=\"-944.3\" font-family=\"Times,serif\" font-size=\"14.00\">input:</text>\n<polyline fill=\"none\" stroke=\"black\" points=\"132,-936.5 200,-936.5 \"/>\n<text text-anchor=\"middle\" x=\"166\" y=\"-921.3\" font-family=\"Times,serif\" font-size=\"14.00\">output:</text>\n<polyline fill=\"none\" stroke=\"black\" points=\"200,-913.5 200,-959.5 \"/>\n<text text-anchor=\"middle\" x=\"273\" y=\"-944.3\" font-family=\"Times,serif\" font-size=\"14.00\">(None, 32, 32, 16)</text>\n<polyline fill=\"none\" stroke=\"black\" points=\"200,-936.5 346,-936.5 \"/>\n<text text-anchor=\"middle\" x=\"273\" y=\"-921.3\" font-family=\"Times,serif\" font-size=\"14.00\">(None, 16, 16, 16)</text>\n</g>\n<!-- 140585488198592&#45;&gt;140588111619904 -->\n<g id=\"edge2\" class=\"edge\">\n<title>140585488198592-&gt;140588111619904</title>\n<path fill=\"none\" stroke=\"black\" d=\"M177,-996.37C177,-988.15 177,-978.66 177,-969.73\"/>\n<polygon fill=\"black\" stroke=\"black\" points=\"180.5,-969.61 177,-959.61 173.5,-969.61 180.5,-969.61\"/>\n</g>\n<!-- 140585397603440 -->\n<g id=\"node4\" class=\"node\">\n<title>140585397603440</title>\n<polygon fill=\"none\" stroke=\"black\" points=\"32.5,-830.5 32.5,-876.5 321.5,-876.5 321.5,-830.5 32.5,-830.5\"/>\n<text text-anchor=\"middle\" x=\"70\" y=\"-861.3\" font-family=\"Times,serif\" font-size=\"14.00\">dropout</text>\n<polyline fill=\"none\" stroke=\"black\" points=\"32.5,-853.5 107.5,-853.5 \"/>\n<text text-anchor=\"middle\" x=\"70\" y=\"-838.3\" font-family=\"Times,serif\" font-size=\"14.00\">Dropout</text>\n<polyline fill=\"none\" stroke=\"black\" points=\"107.5,-830.5 107.5,-876.5 \"/>\n<text text-anchor=\"middle\" x=\"141.5\" y=\"-861.3\" font-family=\"Times,serif\" font-size=\"14.00\">input:</text>\n<polyline fill=\"none\" stroke=\"black\" points=\"107.5,-853.5 175.5,-853.5 \"/>\n<text text-anchor=\"middle\" x=\"141.5\" y=\"-838.3\" font-family=\"Times,serif\" font-size=\"14.00\">output:</text>\n<polyline fill=\"none\" stroke=\"black\" points=\"175.5,-830.5 175.5,-876.5 \"/>\n<text text-anchor=\"middle\" x=\"248.5\" y=\"-861.3\" font-family=\"Times,serif\" font-size=\"14.00\">(None, 16, 16, 16)</text>\n<polyline fill=\"none\" stroke=\"black\" points=\"175.5,-853.5 321.5,-853.5 \"/>\n<text text-anchor=\"middle\" x=\"248.5\" y=\"-838.3\" font-family=\"Times,serif\" font-size=\"14.00\">(None, 16, 16, 16)</text>\n</g>\n<!-- 140588111619904&#45;&gt;140585397603440 -->\n<g id=\"edge3\" class=\"edge\">\n<title>140588111619904-&gt;140585397603440</title>\n<path fill=\"none\" stroke=\"black\" d=\"M177,-913.37C177,-905.15 177,-895.66 177,-886.73\"/>\n<polygon fill=\"black\" stroke=\"black\" points=\"180.5,-886.61 177,-876.61 173.5,-886.61 180.5,-886.61\"/>\n</g>\n<!-- 140585397612464 -->\n<g id=\"node5\" class=\"node\">\n<title>140585397612464</title>\n<polygon fill=\"none\" stroke=\"black\" points=\"28.5,-747.5 28.5,-793.5 325.5,-793.5 325.5,-747.5 28.5,-747.5\"/>\n<text text-anchor=\"middle\" x=\"70\" y=\"-778.3\" font-family=\"Times,serif\" font-size=\"14.00\">conv2d_1</text>\n<polyline fill=\"none\" stroke=\"black\" points=\"28.5,-770.5 111.5,-770.5 \"/>\n<text text-anchor=\"middle\" x=\"70\" y=\"-755.3\" font-family=\"Times,serif\" font-size=\"14.00\">Conv2D</text>\n<polyline fill=\"none\" stroke=\"black\" points=\"111.5,-747.5 111.5,-793.5 \"/>\n<text text-anchor=\"middle\" x=\"145.5\" y=\"-778.3\" font-family=\"Times,serif\" font-size=\"14.00\">input:</text>\n<polyline fill=\"none\" stroke=\"black\" points=\"111.5,-770.5 179.5,-770.5 \"/>\n<text text-anchor=\"middle\" x=\"145.5\" y=\"-755.3\" font-family=\"Times,serif\" font-size=\"14.00\">output:</text>\n<polyline fill=\"none\" stroke=\"black\" points=\"179.5,-747.5 179.5,-793.5 \"/>\n<text text-anchor=\"middle\" x=\"252.5\" y=\"-778.3\" font-family=\"Times,serif\" font-size=\"14.00\">(None, 16, 16, 16)</text>\n<polyline fill=\"none\" stroke=\"black\" points=\"179.5,-770.5 325.5,-770.5 \"/>\n<text text-anchor=\"middle\" x=\"252.5\" y=\"-755.3\" font-family=\"Times,serif\" font-size=\"14.00\">(None, 16, 16, 16)</text>\n</g>\n<!-- 140585397603440&#45;&gt;140585397612464 -->\n<g id=\"edge4\" class=\"edge\">\n<title>140585397603440-&gt;140585397612464</title>\n<path fill=\"none\" stroke=\"black\" d=\"M177,-830.37C177,-822.15 177,-812.66 177,-803.73\"/>\n<polygon fill=\"black\" stroke=\"black\" points=\"180.5,-803.61 177,-793.61 173.5,-803.61 180.5,-803.61\"/>\n</g>\n<!-- 140588104857968 -->\n<g id=\"node6\" class=\"node\">\n<title>140588104857968</title>\n<polygon fill=\"none\" stroke=\"black\" points=\"0,-664.5 0,-710.5 354,-710.5 354,-664.5 0,-664.5\"/>\n<text text-anchor=\"middle\" x=\"70\" y=\"-695.3\" font-family=\"Times,serif\" font-size=\"14.00\">max_pooling2d_1</text>\n<polyline fill=\"none\" stroke=\"black\" points=\"0,-687.5 140,-687.5 \"/>\n<text text-anchor=\"middle\" x=\"70\" y=\"-672.3\" font-family=\"Times,serif\" font-size=\"14.00\">MaxPooling2D</text>\n<polyline fill=\"none\" stroke=\"black\" points=\"140,-664.5 140,-710.5 \"/>\n<text text-anchor=\"middle\" x=\"174\" y=\"-695.3\" font-family=\"Times,serif\" font-size=\"14.00\">input:</text>\n<polyline fill=\"none\" stroke=\"black\" points=\"140,-687.5 208,-687.5 \"/>\n<text text-anchor=\"middle\" x=\"174\" y=\"-672.3\" font-family=\"Times,serif\" font-size=\"14.00\">output:</text>\n<polyline fill=\"none\" stroke=\"black\" points=\"208,-664.5 208,-710.5 \"/>\n<text text-anchor=\"middle\" x=\"281\" y=\"-695.3\" font-family=\"Times,serif\" font-size=\"14.00\">(None, 16, 16, 16)</text>\n<polyline fill=\"none\" stroke=\"black\" points=\"208,-687.5 354,-687.5 \"/>\n<text text-anchor=\"middle\" x=\"281\" y=\"-672.3\" font-family=\"Times,serif\" font-size=\"14.00\">(None, 8, 8, 16)</text>\n</g>\n<!-- 140585397612464&#45;&gt;140588104857968 -->\n<g id=\"edge5\" class=\"edge\">\n<title>140585397612464-&gt;140588104857968</title>\n<path fill=\"none\" stroke=\"black\" d=\"M177,-747.37C177,-739.15 177,-729.66 177,-720.73\"/>\n<polygon fill=\"black\" stroke=\"black\" points=\"180.5,-720.61 177,-710.61 173.5,-720.61 180.5,-720.61\"/>\n</g>\n<!-- 140585397603248 -->\n<g id=\"node7\" class=\"node\">\n<title>140585397603248</title>\n<polygon fill=\"none\" stroke=\"black\" points=\"34.5,-581.5 34.5,-627.5 319.5,-627.5 319.5,-581.5 34.5,-581.5\"/>\n<text text-anchor=\"middle\" x=\"79\" y=\"-612.3\" font-family=\"Times,serif\" font-size=\"14.00\">dropout_1</text>\n<polyline fill=\"none\" stroke=\"black\" points=\"34.5,-604.5 123.5,-604.5 \"/>\n<text text-anchor=\"middle\" x=\"79\" y=\"-589.3\" font-family=\"Times,serif\" font-size=\"14.00\">Dropout</text>\n<polyline fill=\"none\" stroke=\"black\" points=\"123.5,-581.5 123.5,-627.5 \"/>\n<text text-anchor=\"middle\" x=\"157.5\" y=\"-612.3\" font-family=\"Times,serif\" font-size=\"14.00\">input:</text>\n<polyline fill=\"none\" stroke=\"black\" points=\"123.5,-604.5 191.5,-604.5 \"/>\n<text text-anchor=\"middle\" x=\"157.5\" y=\"-589.3\" font-family=\"Times,serif\" font-size=\"14.00\">output:</text>\n<polyline fill=\"none\" stroke=\"black\" points=\"191.5,-581.5 191.5,-627.5 \"/>\n<text text-anchor=\"middle\" x=\"255.5\" y=\"-612.3\" font-family=\"Times,serif\" font-size=\"14.00\">(None, 8, 8, 16)</text>\n<polyline fill=\"none\" stroke=\"black\" points=\"191.5,-604.5 319.5,-604.5 \"/>\n<text text-anchor=\"middle\" x=\"255.5\" y=\"-589.3\" font-family=\"Times,serif\" font-size=\"14.00\">(None, 8, 8, 16)</text>\n</g>\n<!-- 140588104857968&#45;&gt;140585397603248 -->\n<g id=\"edge6\" class=\"edge\">\n<title>140588104857968-&gt;140585397603248</title>\n<path fill=\"none\" stroke=\"black\" d=\"M177,-664.37C177,-656.15 177,-646.66 177,-637.73\"/>\n<polygon fill=\"black\" stroke=\"black\" points=\"180.5,-637.61 177,-627.61 173.5,-637.61 180.5,-637.61\"/>\n</g>\n<!-- 140585354793632 -->\n<g id=\"node8\" class=\"node\">\n<title>140585354793632</title>\n<polygon fill=\"none\" stroke=\"black\" points=\"37.5,-498.5 37.5,-544.5 316.5,-544.5 316.5,-498.5 37.5,-498.5\"/>\n<text text-anchor=\"middle\" x=\"79\" y=\"-529.3\" font-family=\"Times,serif\" font-size=\"14.00\">conv2d_2</text>\n<polyline fill=\"none\" stroke=\"black\" points=\"37.5,-521.5 120.5,-521.5 \"/>\n<text text-anchor=\"middle\" x=\"79\" y=\"-506.3\" font-family=\"Times,serif\" font-size=\"14.00\">Conv2D</text>\n<polyline fill=\"none\" stroke=\"black\" points=\"120.5,-498.5 120.5,-544.5 \"/>\n<text text-anchor=\"middle\" x=\"154.5\" y=\"-529.3\" font-family=\"Times,serif\" font-size=\"14.00\">input:</text>\n<polyline fill=\"none\" stroke=\"black\" points=\"120.5,-521.5 188.5,-521.5 \"/>\n<text text-anchor=\"middle\" x=\"154.5\" y=\"-506.3\" font-family=\"Times,serif\" font-size=\"14.00\">output:</text>\n<polyline fill=\"none\" stroke=\"black\" points=\"188.5,-498.5 188.5,-544.5 \"/>\n<text text-anchor=\"middle\" x=\"252.5\" y=\"-529.3\" font-family=\"Times,serif\" font-size=\"14.00\">(None, 8, 8, 16)</text>\n<polyline fill=\"none\" stroke=\"black\" points=\"188.5,-521.5 316.5,-521.5 \"/>\n<text text-anchor=\"middle\" x=\"252.5\" y=\"-506.3\" font-family=\"Times,serif\" font-size=\"14.00\">(None, 8, 8, 36)</text>\n</g>\n<!-- 140585397603248&#45;&gt;140585354793632 -->\n<g id=\"edge7\" class=\"edge\">\n<title>140585397603248-&gt;140585354793632</title>\n<path fill=\"none\" stroke=\"black\" d=\"M177,-581.37C177,-573.15 177,-563.66 177,-554.73\"/>\n<polygon fill=\"black\" stroke=\"black\" points=\"180.5,-554.61 177,-544.61 173.5,-554.61 180.5,-554.61\"/>\n</g>\n<!-- 140585397603104 -->\n<g id=\"node9\" class=\"node\">\n<title>140585397603104</title>\n<polygon fill=\"none\" stroke=\"black\" points=\"9,-415.5 9,-461.5 345,-461.5 345,-415.5 9,-415.5\"/>\n<text text-anchor=\"middle\" x=\"79\" y=\"-446.3\" font-family=\"Times,serif\" font-size=\"14.00\">max_pooling2d_2</text>\n<polyline fill=\"none\" stroke=\"black\" points=\"9,-438.5 149,-438.5 \"/>\n<text text-anchor=\"middle\" x=\"79\" y=\"-423.3\" font-family=\"Times,serif\" font-size=\"14.00\">MaxPooling2D</text>\n<polyline fill=\"none\" stroke=\"black\" points=\"149,-415.5 149,-461.5 \"/>\n<text text-anchor=\"middle\" x=\"183\" y=\"-446.3\" font-family=\"Times,serif\" font-size=\"14.00\">input:</text>\n<polyline fill=\"none\" stroke=\"black\" points=\"149,-438.5 217,-438.5 \"/>\n<text text-anchor=\"middle\" x=\"183\" y=\"-423.3\" font-family=\"Times,serif\" font-size=\"14.00\">output:</text>\n<polyline fill=\"none\" stroke=\"black\" points=\"217,-415.5 217,-461.5 \"/>\n<text text-anchor=\"middle\" x=\"281\" y=\"-446.3\" font-family=\"Times,serif\" font-size=\"14.00\">(None, 8, 8, 36)</text>\n<polyline fill=\"none\" stroke=\"black\" points=\"217,-438.5 345,-438.5 \"/>\n<text text-anchor=\"middle\" x=\"281\" y=\"-423.3\" font-family=\"Times,serif\" font-size=\"14.00\">(None, 4, 4, 36)</text>\n</g>\n<!-- 140585354793632&#45;&gt;140585397603104 -->\n<g id=\"edge8\" class=\"edge\">\n<title>140585354793632-&gt;140585397603104</title>\n<path fill=\"none\" stroke=\"black\" d=\"M177,-498.37C177,-490.15 177,-480.66 177,-471.73\"/>\n<polygon fill=\"black\" stroke=\"black\" points=\"180.5,-471.61 177,-461.61 173.5,-471.61 180.5,-471.61\"/>\n</g>\n<!-- 140588145852576 -->\n<g id=\"node10\" class=\"node\">\n<title>140588145852576</title>\n<polygon fill=\"none\" stroke=\"black\" points=\"34.5,-332.5 34.5,-378.5 319.5,-378.5 319.5,-332.5 34.5,-332.5\"/>\n<text text-anchor=\"middle\" x=\"79\" y=\"-363.3\" font-family=\"Times,serif\" font-size=\"14.00\">dropout_2</text>\n<polyline fill=\"none\" stroke=\"black\" points=\"34.5,-355.5 123.5,-355.5 \"/>\n<text text-anchor=\"middle\" x=\"79\" y=\"-340.3\" font-family=\"Times,serif\" font-size=\"14.00\">Dropout</text>\n<polyline fill=\"none\" stroke=\"black\" points=\"123.5,-332.5 123.5,-378.5 \"/>\n<text text-anchor=\"middle\" x=\"157.5\" y=\"-363.3\" font-family=\"Times,serif\" font-size=\"14.00\">input:</text>\n<polyline fill=\"none\" stroke=\"black\" points=\"123.5,-355.5 191.5,-355.5 \"/>\n<text text-anchor=\"middle\" x=\"157.5\" y=\"-340.3\" font-family=\"Times,serif\" font-size=\"14.00\">output:</text>\n<polyline fill=\"none\" stroke=\"black\" points=\"191.5,-332.5 191.5,-378.5 \"/>\n<text text-anchor=\"middle\" x=\"255.5\" y=\"-363.3\" font-family=\"Times,serif\" font-size=\"14.00\">(None, 4, 4, 36)</text>\n<polyline fill=\"none\" stroke=\"black\" points=\"191.5,-355.5 319.5,-355.5 \"/>\n<text text-anchor=\"middle\" x=\"255.5\" y=\"-340.3\" font-family=\"Times,serif\" font-size=\"14.00\">(None, 4, 4, 36)</text>\n</g>\n<!-- 140585397603104&#45;&gt;140588145852576 -->\n<g id=\"edge9\" class=\"edge\">\n<title>140585397603104-&gt;140588145852576</title>\n<path fill=\"none\" stroke=\"black\" d=\"M177,-415.37C177,-407.15 177,-397.66 177,-388.73\"/>\n<polygon fill=\"black\" stroke=\"black\" points=\"180.5,-388.61 177,-378.61 173.5,-388.61 180.5,-388.61\"/>\n</g>\n<!-- 140588104855904 -->\n<g id=\"node11\" class=\"node\">\n<title>140588104855904</title>\n<polygon fill=\"none\" stroke=\"black\" points=\"45,-249.5 45,-295.5 309,-295.5 309,-249.5 45,-249.5\"/>\n<text text-anchor=\"middle\" x=\"79\" y=\"-280.3\" font-family=\"Times,serif\" font-size=\"14.00\">flatten</text>\n<polyline fill=\"none\" stroke=\"black\" points=\"45,-272.5 113,-272.5 \"/>\n<text text-anchor=\"middle\" x=\"79\" y=\"-257.3\" font-family=\"Times,serif\" font-size=\"14.00\">Flatten</text>\n<polyline fill=\"none\" stroke=\"black\" points=\"113,-249.5 113,-295.5 \"/>\n<text text-anchor=\"middle\" x=\"147\" y=\"-280.3\" font-family=\"Times,serif\" font-size=\"14.00\">input:</text>\n<polyline fill=\"none\" stroke=\"black\" points=\"113,-272.5 181,-272.5 \"/>\n<text text-anchor=\"middle\" x=\"147\" y=\"-257.3\" font-family=\"Times,serif\" font-size=\"14.00\">output:</text>\n<polyline fill=\"none\" stroke=\"black\" points=\"181,-249.5 181,-295.5 \"/>\n<text text-anchor=\"middle\" x=\"245\" y=\"-280.3\" font-family=\"Times,serif\" font-size=\"14.00\">(None, 4, 4, 36)</text>\n<polyline fill=\"none\" stroke=\"black\" points=\"181,-272.5 309,-272.5 \"/>\n<text text-anchor=\"middle\" x=\"245\" y=\"-257.3\" font-family=\"Times,serif\" font-size=\"14.00\">(None, 576)</text>\n</g>\n<!-- 140588145852576&#45;&gt;140588104855904 -->\n<g id=\"edge10\" class=\"edge\">\n<title>140588145852576-&gt;140588104855904</title>\n<path fill=\"none\" stroke=\"black\" d=\"M177,-332.37C177,-324.15 177,-314.66 177,-305.73\"/>\n<polygon fill=\"black\" stroke=\"black\" points=\"180.5,-305.61 177,-295.61 173.5,-305.61 180.5,-305.61\"/>\n</g>\n<!-- 140588104855472 -->\n<g id=\"node12\" class=\"node\">\n<title>140588104855472</title>\n<polygon fill=\"none\" stroke=\"black\" points=\"62,-166.5 62,-212.5 292,-212.5 292,-166.5 62,-166.5\"/>\n<text text-anchor=\"middle\" x=\"92.5\" y=\"-197.3\" font-family=\"Times,serif\" font-size=\"14.00\">dense</text>\n<polyline fill=\"none\" stroke=\"black\" points=\"62,-189.5 123,-189.5 \"/>\n<text text-anchor=\"middle\" x=\"92.5\" y=\"-174.3\" font-family=\"Times,serif\" font-size=\"14.00\">Dense</text>\n<polyline fill=\"none\" stroke=\"black\" points=\"123,-166.5 123,-212.5 \"/>\n<text text-anchor=\"middle\" x=\"157\" y=\"-197.3\" font-family=\"Times,serif\" font-size=\"14.00\">input:</text>\n<polyline fill=\"none\" stroke=\"black\" points=\"123,-189.5 191,-189.5 \"/>\n<text text-anchor=\"middle\" x=\"157\" y=\"-174.3\" font-family=\"Times,serif\" font-size=\"14.00\">output:</text>\n<polyline fill=\"none\" stroke=\"black\" points=\"191,-166.5 191,-212.5 \"/>\n<text text-anchor=\"middle\" x=\"241.5\" y=\"-197.3\" font-family=\"Times,serif\" font-size=\"14.00\">(None, 576)</text>\n<polyline fill=\"none\" stroke=\"black\" points=\"191,-189.5 292,-189.5 \"/>\n<text text-anchor=\"middle\" x=\"241.5\" y=\"-174.3\" font-family=\"Times,serif\" font-size=\"14.00\">(None, 512)</text>\n</g>\n<!-- 140588104855904&#45;&gt;140588104855472 -->\n<g id=\"edge11\" class=\"edge\">\n<title>140588104855904-&gt;140588104855472</title>\n<path fill=\"none\" stroke=\"black\" d=\"M177,-249.37C177,-241.15 177,-231.66 177,-222.73\"/>\n<polygon fill=\"black\" stroke=\"black\" points=\"180.5,-222.61 177,-212.61 173.5,-222.61 180.5,-222.61\"/>\n</g>\n<!-- 140585397610880 -->\n<g id=\"node13\" class=\"node\">\n<title>140585397610880</title>\n<polygon fill=\"none\" stroke=\"black\" points=\"48,-83.5 48,-129.5 306,-129.5 306,-83.5 48,-83.5\"/>\n<text text-anchor=\"middle\" x=\"92.5\" y=\"-114.3\" font-family=\"Times,serif\" font-size=\"14.00\">dropout_3</text>\n<polyline fill=\"none\" stroke=\"black\" points=\"48,-106.5 137,-106.5 \"/>\n<text text-anchor=\"middle\" x=\"92.5\" y=\"-91.3\" font-family=\"Times,serif\" font-size=\"14.00\">Dropout</text>\n<polyline fill=\"none\" stroke=\"black\" points=\"137,-83.5 137,-129.5 \"/>\n<text text-anchor=\"middle\" x=\"171\" y=\"-114.3\" font-family=\"Times,serif\" font-size=\"14.00\">input:</text>\n<polyline fill=\"none\" stroke=\"black\" points=\"137,-106.5 205,-106.5 \"/>\n<text text-anchor=\"middle\" x=\"171\" y=\"-91.3\" font-family=\"Times,serif\" font-size=\"14.00\">output:</text>\n<polyline fill=\"none\" stroke=\"black\" points=\"205,-83.5 205,-129.5 \"/>\n<text text-anchor=\"middle\" x=\"255.5\" y=\"-114.3\" font-family=\"Times,serif\" font-size=\"14.00\">(None, 512)</text>\n<polyline fill=\"none\" stroke=\"black\" points=\"205,-106.5 306,-106.5 \"/>\n<text text-anchor=\"middle\" x=\"255.5\" y=\"-91.3\" font-family=\"Times,serif\" font-size=\"14.00\">(None, 512)</text>\n</g>\n<!-- 140588104855472&#45;&gt;140585397610880 -->\n<g id=\"edge12\" class=\"edge\">\n<title>140588104855472-&gt;140585397610880</title>\n<path fill=\"none\" stroke=\"black\" d=\"M177,-166.37C177,-158.15 177,-148.66 177,-139.73\"/>\n<polygon fill=\"black\" stroke=\"black\" points=\"180.5,-139.61 177,-129.61 173.5,-139.61 180.5,-139.61\"/>\n</g>\n<!-- 140585397369824 -->\n<g id=\"node14\" class=\"node\">\n<title>140585397369824</title>\n<polygon fill=\"none\" stroke=\"black\" points=\"55.5,-0.5 55.5,-46.5 298.5,-46.5 298.5,-0.5 55.5,-0.5\"/>\n<text text-anchor=\"middle\" x=\"92.5\" y=\"-31.3\" font-family=\"Times,serif\" font-size=\"14.00\">dense_1</text>\n<polyline fill=\"none\" stroke=\"black\" points=\"55.5,-23.5 129.5,-23.5 \"/>\n<text text-anchor=\"middle\" x=\"92.5\" y=\"-8.3\" font-family=\"Times,serif\" font-size=\"14.00\">Dense</text>\n<polyline fill=\"none\" stroke=\"black\" points=\"129.5,-0.5 129.5,-46.5 \"/>\n<text text-anchor=\"middle\" x=\"163.5\" y=\"-31.3\" font-family=\"Times,serif\" font-size=\"14.00\">input:</text>\n<polyline fill=\"none\" stroke=\"black\" points=\"129.5,-23.5 197.5,-23.5 \"/>\n<text text-anchor=\"middle\" x=\"163.5\" y=\"-8.3\" font-family=\"Times,serif\" font-size=\"14.00\">output:</text>\n<polyline fill=\"none\" stroke=\"black\" points=\"197.5,-0.5 197.5,-46.5 \"/>\n<text text-anchor=\"middle\" x=\"248\" y=\"-31.3\" font-family=\"Times,serif\" font-size=\"14.00\">(None, 512)</text>\n<polyline fill=\"none\" stroke=\"black\" points=\"197.5,-23.5 298.5,-23.5 \"/>\n<text text-anchor=\"middle\" x=\"248\" y=\"-8.3\" font-family=\"Times,serif\" font-size=\"14.00\">(None, 1)</text>\n</g>\n<!-- 140585397610880&#45;&gt;140585397369824 -->\n<g id=\"edge13\" class=\"edge\">\n<title>140585397610880-&gt;140585397369824</title>\n<path fill=\"none\" stroke=\"black\" d=\"M177,-83.37C177,-75.15 177,-65.66 177,-56.73\"/>\n<polygon fill=\"black\" stroke=\"black\" points=\"180.5,-56.61 177,-46.61 173.5,-56.61 180.5,-56.61\"/>\n</g>\n</g>\n</svg>",
      "text/plain": [
       "<IPython.core.display.SVG object>"
      ]
     },
     "execution_count": 19,
     "metadata": {},
     "output_type": "execute_result"
    }
   ],
   "source": [
    "from IPython.display import SVG\n",
    "from keras.utils.vis_utils import model_to_dot\n",
    "SVG(model_to_dot(model,show_shapes = True).create(prog='dot', format='svg'))"
   ]
  },
  {
   "cell_type": "code",
   "execution_count": 20,
   "metadata": {},
   "outputs": [
    {
     "name": "stdout",
     "output_type": "stream",
     "text": [
      "\n",
      " Test accuracy: 0.682539701461792\n"
     ]
    }
   ],
   "source": [
    "# Evaluate the model on test set\n",
    "score = model.evaluate(x_test, y_test, verbose=\"0\")\n",
    "\n",
    "# Print test accuracy\n",
    "print('\\n', 'Test accuracy:', score[1])"
   ]
  },
  {
   "cell_type": "code",
   "execution_count": 21,
   "metadata": {},
   "outputs": [],
   "source": [
    "labels =[\"Yes\", \"No\"]"
   ]
  },
  {
   "cell_type": "code",
   "execution_count": 22,
   "metadata": {},
   "outputs": [
    {
     "name": "stdout",
     "output_type": "stream",
     "text": [
      "2/2 [==============================] - 0s 11ms/step\n"
     ]
    },
    {
     "data": {
      "image/png": "[encoded data removed]",
      "text/plain": [
       "<Figure size 2000x800 with 15 Axes>"
      ]
     },
     "metadata": {},
     "output_type": "display_data"
    }
   ],
   "source": [
    "test_set = x_test\n",
    "y_hat = model.predict(test_set)\n",
    "\n",
    "# Plot a random sample of 10 test images, their predicted labels and ground truth\n",
    "figure = plt.figure(figsize=(20, 8))\n",
    "for i, index in enumerate(np.random.choice(test_set.shape[0], size=15, replace=False)):\n",
    "    ax = figure.add_subplot(3, 5, i + 1, xticks=[], yticks=[])\n",
    "    # Display each image\n",
    "    ax.imshow(np.squeeze(test_set[index]))\n",
    "    predict_index = np.argmax(y_hat[index])\n",
    "    true_index = np.argmax(y_test[index])\n",
    "    # Set the title for each image\n",
    "    ax.set_title(\"{} ({})\".format(labels[predict_index], \n",
    "                                  labels[true_index]),\n",
    "                                  color=(\"green\" if predict_index == true_index else \"red\"))\n",
    "plt.show()"
   ]
  },
  {
   "cell_type": "code",
   "execution_count": null,
   "metadata": {},
   "outputs": [],
   "source": []
  }
 ],
 "metadata": {
  "kernelspec": {
   "display_name": "Python 3.10.8 64-bit",
   "language": "python",
   "name": "python3"
  },
  "language_info": {
   "codemirror_mode": {
    "name": "ipython",
    "version": 3
   },
   "file_extension": ".py",
   "mimetype": "text/x-python",
   "name": "python",
   "nbconvert_exporter": "python",
   "pygments_lexer": "ipython3",
   "version": "3.10.8"
  },
  "vscode": {
   "interpreter": {
    "hash": "7d6993cb2f9ce9a59d5d7380609d9cb5192a9dedd2735a011418ad9e827eb538"
   }
  }
 },
 "nbformat": 4,
 "nbformat_minor": 1
}
